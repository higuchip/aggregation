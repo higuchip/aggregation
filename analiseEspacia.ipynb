{
 "cells": [
  {
   "cell_type": "markdown",
   "metadata": {},
   "source": [
    "### Instalação de dependencias"
   ]
  },
  {
   "cell_type": "code",
   "execution_count": 14,
   "metadata": {},
   "outputs": [
    {
     "name": "stdout",
     "output_type": "stream",
     "text": [
      "Requirement already satisfied: pandas in c:\\users\\higuc\\documents\\github\\aggregation\\.venv\\lib\\site-packages (from -r requirements.txt (line 1)) (1.4.0)\n",
      "Requirement already satisfied: numpy in c:\\users\\higuc\\documents\\github\\aggregation\\.venv\\lib\\site-packages (from -r requirements.txt (line 2)) (1.22.2)\n",
      "Requirement already satisfied: scipy in c:\\users\\higuc\\documents\\github\\aggregation\\.venv\\lib\\site-packages (from -r requirements.txt (line 3)) (1.8.0)\n",
      "Requirement already satisfied: pytz>=2020.1 in c:\\users\\higuc\\documents\\github\\aggregation\\.venv\\lib\\site-packages (from pandas->-r requirements.txt (line 1)) (2021.3)\n",
      "Requirement already satisfied: python-dateutil>=2.8.1 in c:\\users\\higuc\\documents\\github\\aggregation\\.venv\\lib\\site-packages (from pandas->-r requirements.txt (line 1)) (2.8.2)\n",
      "Requirement already satisfied: six>=1.5 in c:\\users\\higuc\\documents\\github\\aggregation\\.venv\\lib\\site-packages (from python-dateutil>=2.8.1->pandas->-r requirements.txt (line 1)) (1.16.0)\n",
      "Note: you may need to restart the kernel to use updated packages.\n"
     ]
    },
    {
     "name": "stderr",
     "output_type": "stream",
     "text": [
      "WARNING: You are using pip version 21.3.1; however, version 22.0.3 is available.\n",
      "You should consider upgrading via the 'c:\\Users\\higuc\\Documents\\github\\aggregation\\.venv\\Scripts\\python.exe -m pip install --upgrade pip' command.\n"
     ]
    }
   ],
   "source": [
    "pip install -r requirements.txt"
   ]
  },
  {
   "cell_type": "markdown",
   "metadata": {},
   "source": [
    "### Importando a classe Aggregation"
   ]
  },
  {
   "cell_type": "code",
   "execution_count": 15,
   "metadata": {},
   "outputs": [],
   "source": [
    "from aggregation import Aggregation"
   ]
  },
  {
   "cell_type": "markdown",
   "metadata": {},
   "source": [
    "###  Indicação do arquivo csv que será utilizado como argumento da Classe Aggregation"
   ]
  },
  {
   "cell_type": "code",
   "execution_count": 16,
   "metadata": {},
   "outputs": [],
   "source": [
    "file = \"https://raw.githubusercontent.com/higuchip/blog/main/dados.csv\""
   ]
  },
  {
   "cell_type": "markdown",
   "metadata": {},
   "source": [
    "### Instanciando a Classe Aggregation"
   ]
  },
  {
   "cell_type": "code",
   "execution_count": 17,
   "metadata": {},
   "outputs": [],
   "source": [
    "padraoEspacial = Aggregation(file)"
   ]
  },
  {
   "cell_type": "markdown",
   "metadata": {},
   "source": [
    "### Análisando padrão espacial intraespecífico das espécies"
   ]
  },
  {
   "cell_type": "markdown",
   "metadata": {},
   "source": [
    "#### McGinnies"
   ]
  },
  {
   "cell_type": "code",
   "execution_count": 18,
   "metadata": {},
   "outputs": [
    {
     "data": {
      "text/plain": [
       "Acca sellowiana (O.Berg) Burret                              0.989966\n",
       "Allophylus edulis (A.St.-Hil., Cambess. & A.Juss.) Radlk.    1.095176\n",
       "Allophylus guaraniticus (A.St.-Hil.) Radlk.                  1.794351\n",
       "Annona rugulosa (Schltdl.) H.Rainer                          1.238901\n",
       "Araucaria angustifolia (Bertol.) Kuntze                      2.194071\n",
       "                                                               ...   \n",
       "Vernonanthura discolor (Spreng.) H.Rob.                      1.690404\n",
       "Xylosma ciliatifolia (Clos) Eichler                          1.461284\n",
       "Xylosma tweediana (Clos) Eichler                             0.959444\n",
       "Zanthoxylum kleinii (R.S.Cowan) P.G.Waterman                 2.509595\n",
       "Zanthoxylum rhoifolium Lam.                                  1.452047\n",
       "Length: 90, dtype: float64"
      ]
     },
     "execution_count": 18,
     "metadata": {},
     "output_type": "execute_result"
    }
   ],
   "source": [
    "padraoEspacial.mcginnies()"
   ]
  },
  {
   "cell_type": "markdown",
   "metadata": {},
   "source": [
    "#### Racker & Brischle"
   ]
  },
  {
   "cell_type": "code",
   "execution_count": 19,
   "metadata": {},
   "outputs": [
    {
     "data": {
      "text/plain": [
       "Acca sellowiana (O.Berg) Burret                             -0.496650\n",
       "Allophylus edulis (A.St.-Hil., Cambess. & A.Juss.) Radlk.    0.744529\n",
       "Allophylus guaraniticus (A.St.-Hil.) Radlk.                  2.227100\n",
       "Annona rugulosa (Schltdl.) H.Rainer                          0.870512\n",
       "Araucaria angustifolia (Bertol.) Kuntze                      1.047951\n",
       "                                                               ...   \n",
       "Vernonanthura discolor (Spreng.) H.Rob.                      2.778717\n",
       "Xylosma ciliatifolia (Clos) Eichler                          1.531970\n",
       "Xylosma tweediana (Clos) Eichler                            -0.486388\n",
       "Zanthoxylum kleinii (R.S.Cowan) P.G.Waterman                 6.765131\n",
       "Zanthoxylum rhoifolium Lam.                                  1.172131\n",
       "Length: 90, dtype: float64"
      ]
     },
     "execution_count": 19,
     "metadata": {},
     "output_type": "execute_result"
    }
   ],
   "source": [
    "padraoEspacial.racker_brischle()"
   ]
  },
  {
   "cell_type": "markdown",
   "metadata": {},
   "source": [
    "#### Morisita"
   ]
  },
  {
   "cell_type": "code",
   "execution_count": 20,
   "metadata": {},
   "outputs": [
    {
     "data": {
      "text/html": [
       "<div>\n",
       "<style scoped>\n",
       "    .dataframe tbody tr th:only-of-type {\n",
       "        vertical-align: middle;\n",
       "    }\n",
       "\n",
       "    .dataframe tbody tr th {\n",
       "        vertical-align: top;\n",
       "    }\n",
       "\n",
       "    .dataframe thead th {\n",
       "        text-align: right;\n",
       "    }\n",
       "</style>\n",
       "<table border=\"1\" class=\"dataframe\">\n",
       "  <thead>\n",
       "    <tr style=\"text-align: right;\">\n",
       "      <th></th>\n",
       "      <th>Morisita Index</th>\n",
       "      <th>LimAgr</th>\n",
       "      <th>LimUni</th>\n",
       "    </tr>\n",
       "  </thead>\n",
       "  <tbody>\n",
       "    <tr>\n",
       "      <th>Acca sellowiana (O.Berg) Burret</th>\n",
       "      <td>NaN</td>\n",
       "      <td>inf</td>\n",
       "      <td>-inf</td>\n",
       "    </tr>\n",
       "    <tr>\n",
       "      <th>Allophylus edulis (A.St.-Hil., Cambess. &amp; A.Juss.) Radlk.</th>\n",
       "      <td>2.380952</td>\n",
       "      <td>3.889775</td>\n",
       "      <td>-1.511616</td>\n",
       "    </tr>\n",
       "    <tr>\n",
       "      <th>Allophylus guaraniticus (A.St.-Hil.) Radlk.</th>\n",
       "      <td>2.822581</td>\n",
       "      <td>1.559311</td>\n",
       "      <td>0.513881</td>\n",
       "    </tr>\n",
       "    <tr>\n",
       "      <th>Annona rugulosa (Schltdl.) H.Rainer</th>\n",
       "      <td>2.941176</td>\n",
       "      <td>2.083666</td>\n",
       "      <td>0.058144</td>\n",
       "    </tr>\n",
       "    <tr>\n",
       "      <th>Araucaria angustifolia (Bertol.) Kuntze</th>\n",
       "      <td>1.987097</td>\n",
       "      <td>1.139828</td>\n",
       "      <td>0.878470</td>\n",
       "    </tr>\n",
       "    <tr>\n",
       "      <th>...</th>\n",
       "      <td>...</td>\n",
       "      <td>...</td>\n",
       "      <td>...</td>\n",
       "    </tr>\n",
       "    <tr>\n",
       "      <th>Vernonanthura discolor (Spreng.) H.Rob.</th>\n",
       "      <td>3.571429</td>\n",
       "      <td>1.866932</td>\n",
       "      <td>0.246515</td>\n",
       "    </tr>\n",
       "    <tr>\n",
       "      <th>Xylosma ciliatifolia (Clos) Eichler</th>\n",
       "      <td>2.597403</td>\n",
       "      <td>1.825650</td>\n",
       "      <td>0.282396</td>\n",
       "    </tr>\n",
       "    <tr>\n",
       "      <th>Xylosma tweediana (Clos) Eichler</th>\n",
       "      <td>0.000000</td>\n",
       "      <td>6.779550</td>\n",
       "      <td>-4.023231</td>\n",
       "    </tr>\n",
       "    <tr>\n",
       "      <th>Zanthoxylum kleinii (R.S.Cowan) P.G.Waterman</th>\n",
       "      <td>5.158730</td>\n",
       "      <td>1.642172</td>\n",
       "      <td>0.441863</td>\n",
       "    </tr>\n",
       "    <tr>\n",
       "      <th>Zanthoxylum rhoifolium Lam.</th>\n",
       "      <td>2.380952</td>\n",
       "      <td>1.642172</td>\n",
       "      <td>0.441863</td>\n",
       "    </tr>\n",
       "  </tbody>\n",
       "</table>\n",
       "<p>90 rows × 3 columns</p>\n",
       "</div>"
      ],
      "text/plain": [
       "                                                    Morisita Index    LimAgr  \\\n",
       "Acca sellowiana (O.Berg) Burret                                NaN       inf   \n",
       "Allophylus edulis (A.St.-Hil., Cambess. & A.Jus...        2.380952  3.889775   \n",
       "Allophylus guaraniticus (A.St.-Hil.) Radlk.               2.822581  1.559311   \n",
       "Annona rugulosa (Schltdl.) H.Rainer                       2.941176  2.083666   \n",
       "Araucaria angustifolia (Bertol.) Kuntze                   1.987097  1.139828   \n",
       "...                                                            ...       ...   \n",
       "Vernonanthura discolor (Spreng.) H.Rob.                   3.571429  1.866932   \n",
       "Xylosma ciliatifolia (Clos) Eichler                       2.597403  1.825650   \n",
       "Xylosma tweediana (Clos) Eichler                          0.000000  6.779550   \n",
       "Zanthoxylum kleinii (R.S.Cowan) P.G.Waterman              5.158730  1.642172   \n",
       "Zanthoxylum rhoifolium Lam.                               2.380952  1.642172   \n",
       "\n",
       "                                                      LimUni  \n",
       "Acca sellowiana (O.Berg) Burret                         -inf  \n",
       "Allophylus edulis (A.St.-Hil., Cambess. & A.Jus... -1.511616  \n",
       "Allophylus guaraniticus (A.St.-Hil.) Radlk.         0.513881  \n",
       "Annona rugulosa (Schltdl.) H.Rainer                 0.058144  \n",
       "Araucaria angustifolia (Bertol.) Kuntze             0.878470  \n",
       "...                                                      ...  \n",
       "Vernonanthura discolor (Spreng.) H.Rob.             0.246515  \n",
       "Xylosma ciliatifolia (Clos) Eichler                 0.282396  \n",
       "Xylosma tweediana (Clos) Eichler                   -4.023231  \n",
       "Zanthoxylum kleinii (R.S.Cowan) P.G.Waterman        0.441863  \n",
       "Zanthoxylum rhoifolium Lam.                         0.441863  \n",
       "\n",
       "[90 rows x 3 columns]"
      ]
     },
     "execution_count": 20,
     "metadata": {},
     "output_type": "execute_result"
    }
   ],
   "source": [
    "padraoEspacial.morisita()"
   ]
  }
 ],
 "metadata": {
  "interpreter": {
   "hash": "b3d7c2a273c0c0e856e33fcc4fc954535c1282534edd499d92f286d1b91c5f5b"
  },
  "kernelspec": {
   "display_name": "Python 3.10.2 ('.venv': venv)",
   "language": "python",
   "name": "python3"
  },
  "language_info": {
   "codemirror_mode": {
    "name": "ipython",
    "version": 3
   },
   "file_extension": ".py",
   "mimetype": "text/x-python",
   "name": "python",
   "nbconvert_exporter": "python",
   "pygments_lexer": "ipython3",
   "version": "3.10.2"
  },
  "orig_nbformat": 4
 },
 "nbformat": 4,
 "nbformat_minor": 2
}
