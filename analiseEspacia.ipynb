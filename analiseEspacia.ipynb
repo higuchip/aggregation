{
 "cells": [
  {
   "cell_type": "code",
   "execution_count": 2,
   "metadata": {},
   "outputs": [
    {
     "name": "stdout",
     "output_type": "stream",
     "text": [
      "Requirement already satisfied: pandas in c:\\users\\higuc\\documents\\github\\aggregation\\.venv\\lib\\site-packages (from -r requirements.txt (line 1)) (1.4.0)\n",
      "Requirement already satisfied: numpy in c:\\users\\higuc\\documents\\github\\aggregation\\.venv\\lib\\site-packages (from -r requirements.txt (line 2)) (1.22.2)\n",
      "Requirement already satisfied: scipy in c:\\users\\higuc\\documents\\github\\aggregation\\.venv\\lib\\site-packages (from -r requirements.txt (line 3)) (1.8.0)\n",
      "Requirement already satisfied: python-dateutil>=2.8.1 in c:\\users\\higuc\\documents\\github\\aggregation\\.venv\\lib\\site-packages (from pandas->-r requirements.txt (line 1)) (2.8.2)\n",
      "Requirement already satisfied: pytz>=2020.1 in c:\\users\\higuc\\documents\\github\\aggregation\\.venv\\lib\\site-packages (from pandas->-r requirements.txt (line 1)) (2021.3)\n",
      "Requirement already satisfied: six>=1.5 in c:\\users\\higuc\\documents\\github\\aggregation\\.venv\\lib\\site-packages (from python-dateutil>=2.8.1->pandas->-r requirements.txt (line 1)) (1.16.0)\n",
      "Note: you may need to restart the kernel to use updated packages.\n"
     ]
    },
    {
     "name": "stderr",
     "output_type": "stream",
     "text": [
      "WARNING: You are using pip version 21.3.1; however, version 22.0.3 is available.\n",
      "You should consider upgrading via the 'c:\\Users\\higuc\\Documents\\github\\aggregation\\.venv\\Scripts\\python.exe -m pip install --upgrade pip' command.\n"
     ]
    }
   ],
   "source": [
    "pip install -r requirements.txt"
   ]
  },
  {
   "cell_type": "code",
   "execution_count": 3,
   "metadata": {},
   "outputs": [],
   "source": [
    "from aggregation import Aggregation"
   ]
  }
 ],
 "metadata": {
  "interpreter": {
   "hash": "b3d7c2a273c0c0e856e33fcc4fc954535c1282534edd499d92f286d1b91c5f5b"
  },
  "kernelspec": {
   "display_name": "Python 3.10.2 ('.venv': venv)",
   "language": "python",
   "name": "python3"
  },
  "language_info": {
   "codemirror_mode": {
    "name": "ipython",
    "version": 3
   },
   "file_extension": ".py",
   "mimetype": "text/x-python",
   "name": "python",
   "nbconvert_exporter": "python",
   "pygments_lexer": "ipython3",
   "version": "3.10.2"
  },
  "orig_nbformat": 4
 },
 "nbformat": 4,
 "nbformat_minor": 2
}
